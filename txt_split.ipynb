{
 "cells": [
  {
   "cell_type": "code",
   "execution_count": 166,
   "metadata": {
    "scrolled": true
   },
   "outputs": [
    {
     "name": "stdout",
     "output_type": "stream",
     "text": [
      "\n",
      "1)Start reading book: Shakespeare_-_William_Shakespeare__The_Complete_Works_2nd_Edition.txt\n",
      "12529 items\n"
     ]
    }
   ],
   "source": [
    "author = 'William_Shakespeare'\n",
    "book_names = !ls data/books/$author\n",
    "files_count = 0\n",
    "for book_num,name in enumerate(book_names): #going through all book_names\n",
    "    with open(f'./data/books/{author}/{name}',\"r\") as f: #open a book\n",
    "        text = (f.read())\n",
    "        \n",
    "    path = f'./data/train/{author}' #path to write\n",
    "    \n",
    "    print(f'\\n{book_num+1})Start reading book: {name}')\n",
    "    \n",
    "    #start = text.find('*** START OF THIS PROJECT GUTENBERG EBOOK') + 1000\n",
    "    #end = text.find('ORIGINAL TRANSCRIBER’S NOTES')\n",
    "    \n",
    "    l_text = text.split('\\n\\n')#Strip file and split it\n",
    "    cl_text = [x for x in l_text if len(x)>10]# Clean list\n",
    "\n",
    "    i = 0\n",
    "    while i <len(cl_text):\n",
    "        if len(cl_text[i])<300 and i!=len(cl_text)-1:# Concat strings that are smaller then 400\n",
    "            \n",
    "            cl_text[i+1]= cl_text[i] + ' ' + cl_text[i+1]\n",
    "            cl_text.pop(i)\n",
    "        else:\n",
    "            i+=1\n",
    "    files_count+=len(cl_text)\n",
    "    print(f'{files_count} items')\n",
    "    for page_num,para in enumerate(cl_text):\n",
    "        with open(f\"{path}/train-{book_num}-{page_num}.txt\", \"w\",encoding=\"utf8\") as  train_f: #open file to write\n",
    "            train_f.write(para) #write information\n",
    "\n",
    "        "
   ]
  }
 ],
 "metadata": {
  "hide_input": false,
  "kernelspec": {
   "display_name": "Python 3",
   "language": "python",
   "name": "python3"
  },
  "language_info": {
   "codemirror_mode": {
    "name": "ipython",
    "version": 3
   },
   "file_extension": ".py",
   "mimetype": "text/x-python",
   "name": "python",
   "nbconvert_exporter": "python",
   "pygments_lexer": "ipython3",
   "version": "3.7.3"
  },
  "toc": {
   "base_numbering": 1,
   "nav_menu": {},
   "number_sections": true,
   "sideBar": true,
   "skip_h1_title": false,
   "title_cell": "Table of Contents",
   "title_sidebar": "Contents",
   "toc_cell": false,
   "toc_position": {},
   "toc_section_display": true,
   "toc_window_display": false
  },
  "varInspector": {
   "cols": {
    "lenName": 16,
    "lenType": 16,
    "lenVar": 40
   },
   "kernels_config": {
    "python": {
     "delete_cmd_postfix": "",
     "delete_cmd_prefix": "del ",
     "library": "var_list.py",
     "varRefreshCmd": "print(var_dic_list())"
    },
    "r": {
     "delete_cmd_postfix": ") ",
     "delete_cmd_prefix": "rm(",
     "library": "var_list.r",
     "varRefreshCmd": "cat(var_dic_list()) "
    }
   },
   "types_to_exclude": [
    "module",
    "function",
    "builtin_function_or_method",
    "instance",
    "_Feature"
   ],
   "window_display": false
  }
 },
 "nbformat": 4,
 "nbformat_minor": 2
}
