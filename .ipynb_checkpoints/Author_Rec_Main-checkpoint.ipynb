{
 "cells": [
  {
   "cell_type": "markdown",
   "metadata": {
    "colab_type": "text",
    "id": "FgQb_Ul8Z5fQ"
   },
   "source": [
    "# Unzip data for training"
   ]
  },
  {
   "cell_type": "code",
   "execution_count": 0,
   "metadata": {
    "colab": {},
    "colab_type": "code",
    "id": "9NujXutk1eTt"
   },
   "outputs": [],
   "source": [
    "!unzip -uq \"/content/drive/My Drive/Projects/Author_rec/train.zip\" -d \"/content/drive/My Drive/Projects/Author_rec/data\""
   ]
  },
  {
   "cell_type": "code",
   "execution_count": 0,
   "metadata": {
    "colab": {},
    "colab_type": "code",
    "id": "I6tfj-w0MYLY"
   },
   "outputs": [],
   "source": [
    "%reload_ext autoreload\n",
    "%autoreload 2\n",
    "%matplotlib inline"
   ]
  },
  {
   "cell_type": "code",
   "execution_count": 0,
   "metadata": {
    "colab": {},
    "colab_type": "code",
    "id": "xWf855_8aiYJ"
   },
   "outputs": [],
   "source": [
    "from fastai.text import *\n",
    "from fastai import *"
   ]
  },
  {
   "cell_type": "code",
   "execution_count": 0,
   "metadata": {
    "colab": {},
    "colab_type": "code",
    "id": "YcCM617na8M4"
   },
   "outputs": [],
   "source": [
    "path  = Path('/content/drive/My Drive/Projects/Author_rec/data/train')"
   ]
  },
  {
   "cell_type": "code",
   "execution_count": 0,
   "metadata": {
    "colab": {
     "base_uri": "https://localhost:8080/",
     "height": 34
    },
    "colab_type": "code",
    "id": "46lTMwnDa-pW",
    "outputId": "392f15b9-572a-4e6a-a380-adde24c71b2e"
   },
   "outputs": [
    {
     "data": {
      "text/plain": [
       "PosixPath('/content/drive/My Drive/Projects/Author_rec/data/train')"
      ]
     },
     "execution_count": 12,
     "metadata": {
      "tags": []
     },
     "output_type": "execute_result"
    }
   ],
   "source": [
    "path"
   ]
  },
  {
   "cell_type": "markdown",
   "metadata": {
    "colab_type": "text",
    "id": "bxdOBskXaLXp"
   },
   "source": [
    "### Creating a TextDataBunch"
   ]
  },
  {
   "cell_type": "code",
   "execution_count": 0,
   "metadata": {
    "colab": {},
    "colab_type": "code",
    "id": "F9_GAp_WajWT"
   },
   "outputs": [],
   "source": [
    "data_lm = (TextList.from_folder(path)\n",
    "           #Inputs: all the text files in path\n",
    "            .split_by_rand_pct(0.1)\n",
    "           #We randomly split and keep 10% (10,000 reviews) for validation\n",
    "            .label_for_lm()           \n",
    "           #We want to do a language model so we label accordingly\n",
    "            .databunch(bs=32))"
   ]
  },
  {
   "cell_type": "code",
   "execution_count": 0,
   "metadata": {
    "colab": {},
    "colab_type": "code",
    "id": "lG94bDNuQz0F"
   },
   "outputs": [],
   "source": [
    "data_lm.load('')"
   ]
  },
  {
   "cell_type": "code",
   "execution_count": 0,
   "metadata": {
    "colab": {},
    "colab_type": "code",
    "id": "A4eBBU_2bLH8"
   },
   "outputs": [],
   "source": [
    "data_lm = load_data(Path('/content/drive/My Drive/Projects/Author_rec/data/data_model/'), 'data_lm.pkl', bs=32)"
   ]
  },
  {
   "cell_type": "code",
   "execution_count": 0,
   "metadata": {
    "colab": {
     "base_uri": "https://localhost:8080/",
     "height": 447
    },
    "colab_type": "code",
    "id": "sUraC5aLbYMz",
    "outputId": "fa68b8c5-e2c2-466a-e6bd-bed4984a6751"
   },
   "outputs": [
    {
     "data": {
      "text/html": [
       "<table border=\"1\" class=\"dataframe\">\n",
       "  <thead>\n",
       "    <tr style=\"text-align: right;\">\n",
       "      <th>idx</th>\n",
       "      <th>text</th>\n",
       "    </tr>\n",
       "  </thead>\n",
       "  <tbody>\n",
       "    <tr>\n",
       "      <td>0</td>\n",
       "      <td>of _ xxup john xxup h. xxup watson , xxup m.d. , _ late \\n  of the xxmaj army xxmaj medical xxmaj department . _ ) [ 2 ] \\n  xxup chapter xxup i. xxup mr . xxup sherlock xxup holmes . \\n  xxup in the year 1878 i took my degree of xxmaj doctor of xxmaj medicine of the \\n  xxmaj university of xxmaj london</td>\n",
       "    </tr>\n",
       "    <tr>\n",
       "      <td>1</td>\n",
       "      <td>line to help , it takes \\n  such a master of administrative detail as xxmaj lord xxmaj kitchener to bring the \\n  operations to complete success . xxbos xxmaj on xxmaj may 3rd , the day of the advance from our most northern post , xxmaj karee , \\n  the disposition of xxmaj lord xxmaj roberts 's army was briefly as follows . xxmaj on his \\n</td>\n",
       "    </tr>\n",
       "    <tr>\n",
       "      <td>2</td>\n",
       "      <td>\\n  a tweed - suited ministering angel to carry xxmaj raffles xxmaj haw 's help to the \\n  unfortunate . xxmaj it was not an ambitious life , but it was one which was very \\n  congenial to his weak and easy - going nature . xxbos xxmaj robert had observed that fits of depression had frequently come upon \\n  the millionaire , and it had</td>\n",
       "    </tr>\n",
       "    <tr>\n",
       "      <td>3</td>\n",
       "      <td>any but natural causes . \\n  xxmaj sir xxmaj charles was a widower , and a man who may be said to \\n  have been in some ways of an eccentric habit of mind . xxmaj in \\n  spite of his considerable wealth he was simple in his \\n  personal tastes , and his indoor servants at xxmaj baskerville \\n  xxmaj hall consisted of a</td>\n",
       "    </tr>\n",
       "    <tr>\n",
       "      <td>4</td>\n",
       "      <td>. “ xxmaj you must act , man , or you are lost . \\n  xxmaj nothing but energy can save you . xxmaj this is no time for despair . ” “ i have seen the police . ” “ xxmaj but they listened to my story with a smile . i am convinced that the \\n  inspector has formed the opinion that the letters are all</td>\n",
       "    </tr>\n",
       "  </tbody>\n",
       "</table>"
      ],
      "text/plain": [
       "<IPython.core.display.HTML object>"
      ]
     },
     "metadata": {
      "tags": []
     },
     "output_type": "display_data"
    }
   ],
   "source": [
    "data_lm.show_batch()"
   ]
  },
  {
   "cell_type": "code",
   "execution_count": 0,
   "metadata": {
    "colab": {},
    "colab_type": "code",
    "id": "Ny_rOBa2fjsI"
   },
   "outputs": [],
   "source": [
    "data_lm.vocab.itos"
   ]
  },
  {
   "cell_type": "code",
   "execution_count": 0,
   "metadata": {
    "colab": {},
    "colab_type": "code",
    "id": "8Xdeud_Ng7oq"
   },
   "outputs": [],
   "source": [
    "data_lm.train_ds[0]"
   ]
  },
  {
   "cell_type": "markdown",
   "metadata": {
    "colab_type": "text",
    "id": "iuL-qMuHc7-J"
   },
   "source": [
    "## Creating a Language model from FastAi library"
   ]
  },
  {
   "cell_type": "code",
   "execution_count": 0,
   "metadata": {
    "colab": {},
    "colab_type": "code",
    "id": "zBsIfmD3j4nS"
   },
   "outputs": [],
   "source": [
    "learn = language_model_learner(data_lm, AWD_LSTM, drop_mult=0.3)"
   ]
  },
  {
   "cell_type": "code",
   "execution_count": 0,
   "metadata": {
    "colab": {},
    "colab_type": "code",
    "id": "6tqc6vYQRHtc"
   },
   "outputs": [],
   "source": [
    "learn.load('/content/drive/My Drive/Projects/Author_rec/data/train/models/fine_tuned')"
   ]
  },
  {
   "cell_type": "markdown",
   "metadata": {
    "colab_type": "text",
    "id": "LMAchDspdBdm"
   },
   "source": [
    "## Looking for learning rate"
   ]
  },
  {
   "cell_type": "code",
   "execution_count": 0,
   "metadata": {
    "colab": {
     "base_uri": "https://localhost:8080/",
     "height": 34
    },
    "colab_type": "code",
    "id": "H-SHryXyk3WH",
    "outputId": "2562a7c5-a721-4ac6-adca-e4b7d6592ba3"
   },
   "outputs": [
    {
     "data": {
      "text/html": [],
      "text/plain": [
       "<IPython.core.display.HTML object>"
      ]
     },
     "metadata": {
      "tags": []
     },
     "output_type": "display_data"
    },
    {
     "name": "stdout",
     "output_type": "stream",
     "text": [
      "LR Finder is complete, type {learner_name}.recorder.plot() to see the graph.\n"
     ]
    }
   ],
   "source": [
    "learn.lr_find()"
   ]
  },
  {
   "cell_type": "code",
   "execution_count": 0,
   "metadata": {
    "colab": {
     "base_uri": "https://localhost:8080/",
     "height": 283
    },
    "colab_type": "code",
    "id": "ZUO9cOxSk6zk",
    "outputId": "d47cd1d4-cea2-4212-8e4d-db6ef8b5705c"
   },
   "outputs": [
    {
     "data": {
      "image/png": "[encoded data removed]",
      "text/plain": [
       "<Figure size 432x288 with 1 Axes>"
      ]
     },
     "metadata": {
      "tags": []
     },
     "output_type": "display_data"
    }
   ],
   "source": [
    "learn.recorder.plot(skip_end=15)"
   ]
  },
  {
   "cell_type": "markdown",
   "metadata": {
    "colab_type": "text",
    "id": "lyc5pJKsdII0"
   },
   "source": [
    "## Training"
   ]
  },
  {
   "cell_type": "code",
   "execution_count": 0,
   "metadata": {
    "colab": {
     "base_uri": "https://localhost:8080/",
     "height": 77
    },
    "colab_type": "code",
    "id": "2eA9vInelAAI",
    "outputId": "d4851401-eddf-4358-e25a-46b2981d2dcf"
   },
   "outputs": [
    {
     "data": {
      "text/html": [
       "<table border=\"1\" class=\"dataframe\">\n",
       "  <thead>\n",
       "    <tr style=\"text-align: left;\">\n",
       "      <th>epoch</th>\n",
       "      <th>train_loss</th>\n",
       "      <th>valid_loss</th>\n",
       "      <th>accuracy</th>\n",
       "      <th>time</th>\n",
       "    </tr>\n",
       "  </thead>\n",
       "  <tbody>\n",
       "    <tr>\n",
       "      <td>0</td>\n",
       "      <td>4.154593</td>\n",
       "      <td>3.987616</td>\n",
       "      <td>0.283518</td>\n",
       "      <td>08:14</td>\n",
       "    </tr>\n",
       "  </tbody>\n",
       "</table>"
      ],
      "text/plain": [
       "<IPython.core.display.HTML object>"
      ]
     },
     "metadata": {
      "tags": []
     },
     "output_type": "display_data"
    }
   ],
   "source": [
    "learn.fit_one_cycle(1,1e-2,moms=(0.8,0.7))"
   ]
  },
  {
   "cell_type": "code",
   "execution_count": 0,
   "metadata": {
    "colab": {},
    "colab_type": "code",
    "id": "12fgiB9klP_T"
   },
   "outputs": [],
   "source": [
    "learn.save('fit_head') "
   ]
  },
  {
   "cell_type": "markdown",
   "metadata": {
    "colab_type": "text",
    "id": "RjxZfvyqdMlr"
   },
   "source": [
    "## Tune language model"
   ]
  },
  {
   "cell_type": "code",
   "execution_count": 0,
   "metadata": {
    "colab": {},
    "colab_type": "code",
    "id": "mRqA8-YUl64W"
   },
   "outputs": [],
   "source": [
    "learn.unfreeze()"
   ]
  },
  {
   "cell_type": "code",
   "execution_count": 0,
   "metadata": {
    "colab": {
     "base_uri": "https://localhost:8080/",
     "height": 166
    },
    "colab_type": "code",
    "id": "ErvxKF5TnWq-",
    "outputId": "d1bb9692-13a1-4fde-fe3b-f411abf274cc"
   },
   "outputs": [
    {
     "data": {
      "text/html": [
       "<table border=\"1\" class=\"dataframe\">\n",
       "  <thead>\n",
       "    <tr style=\"text-align: left;\">\n",
       "      <th>epoch</th>\n",
       "      <th>train_loss</th>\n",
       "      <th>valid_loss</th>\n",
       "      <th>accuracy</th>\n",
       "      <th>time</th>\n",
       "    </tr>\n",
       "  </thead>\n",
       "  <tbody>\n",
       "    <tr>\n",
       "      <td>0</td>\n",
       "      <td>3.746816</td>\n",
       "      <td>3.720472</td>\n",
       "      <td>0.319510</td>\n",
       "      <td>10:04</td>\n",
       "    </tr>\n",
       "    <tr>\n",
       "      <td>1</td>\n",
       "      <td>3.610466</td>\n",
       "      <td>3.610909</td>\n",
       "      <td>0.335800</td>\n",
       "      <td>10:02</td>\n",
       "    </tr>\n",
       "    <tr>\n",
       "      <td>2</td>\n",
       "      <td>3.409663</td>\n",
       "      <td>3.547409</td>\n",
       "      <td>0.345717</td>\n",
       "      <td>10:01</td>\n",
       "    </tr>\n",
       "    <tr>\n",
       "      <td>3</td>\n",
       "      <td>3.241500</td>\n",
       "      <td>3.543359</td>\n",
       "      <td>0.346832</td>\n",
       "      <td>10:02</td>\n",
       "    </tr>\n",
       "  </tbody>\n",
       "</table>"
      ],
      "text/plain": [
       "<IPython.core.display.HTML object>"
      ]
     },
     "metadata": {
      "tags": []
     },
     "output_type": "display_data"
    }
   ],
   "source": [
    "learn.fit_one_cycle(4,1e-3,moms=(0.8,0.7))"
   ]
  },
  {
   "cell_type": "code",
   "execution_count": 0,
   "metadata": {
    "colab": {},
    "colab_type": "code",
    "id": "gcVYrDExn2Ua"
   },
   "outputs": [],
   "source": [
    "learn.save('fine_tuned')"
   ]
  },
  {
   "cell_type": "code",
   "execution_count": 0,
   "metadata": {
    "colab": {},
    "colab_type": "code",
    "id": "lLci0LVZA9Bv"
   },
   "outputs": [],
   "source": [
    "learn.save_encoder('fine_tuned_enc')"
   ]
  },
  {
   "cell_type": "markdown",
   "metadata": {
    "colab_type": "text",
    "id": "Zzz2TJ4ERkGt"
   },
   "source": [
    "## Predicting language model"
   ]
  },
  {
   "cell_type": "code",
   "execution_count": 0,
   "metadata": {
    "colab": {},
    "colab_type": "code",
    "id": "Fo5BuWYH188k"
   },
   "outputs": [],
   "source": [
    "text = '''When, some years ago, I chronicled in the Daily Gazette our epoch-making\n",
    "journey in South America, I little thought that it should ever fall to my\n",
    "lot to tell an even stranger personal experience, one which is unique in\n",
    "all human annals and must stand out in the records of history as a great\n",
    "peak among the humble foothills which surround it.  The event itself will\n",
    "always be marvellous, but the circumstances that we four were together at\n",
    "the time of this extraordinary episode came about in a most natural and,\n",
    "indeed, inevitable fashion.  I will explain the events which led up to it\n",
    "as shortly and as clearly as I can, though I am well aware that the\n",
    "fuller the detail upon such a subject the more welcome it will be to the\n",
    "reader, for the public curiosity has been and still is insatiable.'''\n",
    "n_words = 100\n",
    "n_sentences = 1\n"
   ]
  },
  {
   "cell_type": "code",
   "execution_count": 0,
   "metadata": {
    "colab": {
     "base_uri": "https://localhost:8080/",
     "height": 283
    },
    "colab_type": "code",
    "id": "hPmJ-qWO2Wjt",
    "outputId": "06ce32a2-f3f5-427c-8c10-b1f577fe9016"
   },
   "outputs": [
    {
     "name": "stdout",
     "output_type": "stream",
     "text": [
      "When, some years ago, I chronicled in the Daily Gazette our epoch-making\n",
      "journey in South America, I little thought that it should ever fall to my\n",
      "lot to tell an even stranger personal experience, one which is unique in\n",
      "all human annals and must stand out in the records of history as a great\n",
      "peak among the humble foothills which surround it.  The event itself will\n",
      "always be marvellous, but the circumstances that we four were together at\n",
      "the time of this extraordinary episode came about in a most natural and,\n",
      "indeed, inevitable fashion.  I will explain the events which led up to it\n",
      "as shortly and as clearly as I can, though I am well aware that the\n",
      "fuller the detail upon such a subject the more welcome it will be to the\n",
      "reader, for the public curiosity has been and still is insatiable. This \n",
      "  explanation , to which i go not now , has been that it is all agreed that \n",
      "  Mr. Angel should be the last to return to Australia , and he can not \n",
      "  begin by taking the news that the people are in town . xxbos IAGO Alas , poor Cassio ! IAGO Thou shalt have the kindness to get my lady on the way . Fare thee well , Iago . If thou continue to drink , thou must needs eat the meat .\n"
     ]
    }
   ],
   "source": [
    "for  i in range(n_sentences):\n",
    "  print(learn.predict(text, n_words, temperature=0.75))"
   ]
  },
  {
   "cell_type": "markdown",
   "metadata": {
    "colab_type": "text",
    "id": "91YyLSHVRE90"
   },
   "source": [
    "# Classifier"
   ]
  },
  {
   "cell_type": "markdown",
   "metadata": {
    "colab_type": "text",
    "id": "UsozPcmedR7d"
   },
   "source": [
    "## Create TextClasDataBunch"
   ]
  },
  {
   "cell_type": "code",
   "execution_count": 0,
   "metadata": {
    "colab": {},
    "colab_type": "code",
    "id": "z2KkFGYB2c4A"
   },
   "outputs": [],
   "source": [
    "data_clas = (TextList.from_folder(path, vocab=data_lm.vocab)\n",
    "           #grab all the text files in path\n",
    "             .split_by_rand_pct(0.5)\n",
    "             #split by train and valid\n",
    "             .label_from_folder()\n",
    "             #label them all with their folders\n",
    "             .databunch(bs=32))"
   ]
  },
  {
   "cell_type": "code",
   "execution_count": 0,
   "metadata": {
    "colab": {},
    "colab_type": "code",
    "id": "oqjOmPJ1v0a9"
   },
   "outputs": [],
   "source": [
    "TextList.from_folder??"
   ]
  },
  {
   "cell_type": "code",
   "execution_count": 0,
   "metadata": {
    "colab": {},
    "colab_type": "code",
    "id": "bery8cuYd0ox"
   },
   "outputs": [],
   "source": [
    "data_clas = load_data(Path('/content/drive/My Drive/Projects/Author_rec/data/data_model/'),'data_clas.pkl')"
   ]
  },
  {
   "cell_type": "code",
   "execution_count": 0,
   "metadata": {
    "colab": {},
    "colab_type": "code",
    "id": "VisEHc3V05hv"
   },
   "outputs": [],
   "source": [
    "data_clas"
   ]
  },
  {
   "cell_type": "code",
   "execution_count": 0,
   "metadata": {
    "colab": {},
    "colab_type": "code",
    "id": "GHLFa4PXEVcP"
   },
   "outputs": [],
   "source": [
    "data_clas.save('/content/drive/My Drive/Projects/Author_rec/data/data_model/data_clas.pkl')"
   ]
  },
  {
   "cell_type": "code",
   "execution_count": 0,
   "metadata": {
    "colab": {
     "base_uri": "https://localhost:8080/",
     "height": 34
    },
    "colab_type": "code",
    "id": "Oyr1nqnunFPg",
    "outputId": "289d7c73-6651-4196-fa7b-acca4d028eb3"
   },
   "outputs": [
    {
     "data": {
      "text/plain": [
       "PosixPath('/content/drive/My Drive/Projects/Author_rec/data/train')"
      ]
     },
     "execution_count": 6,
     "metadata": {
      "tags": []
     },
     "output_type": "execute_result"
    }
   ],
   "source": [
    "path"
   ]
  },
  {
   "cell_type": "code",
   "execution_count": 0,
   "metadata": {
    "colab": {},
    "colab_type": "code",
    "id": "2B6YxcHdFqci"
   },
   "outputs": [],
   "source": [
    "data_clas.vocab.itos"
   ]
  },
  {
   "cell_type": "code",
   "execution_count": 0,
   "metadata": {
    "colab": {
     "base_uri": "https://localhost:8080/",
     "height": 548
    },
    "colab_type": "code",
    "id": "6si08Qg1FuhM",
    "outputId": "1a458e3e-7e3f-4f0b-fb48-cbf9b3852c41"
   },
   "outputs": [
    {
     "data": {
      "text/html": [
       "<table border=\"1\" class=\"dataframe\">\n",
       "  <thead>\n",
       "    <tr style=\"text-align: right;\">\n",
       "      <th>text</th>\n",
       "      <th>target</th>\n",
       "    </tr>\n",
       "  </thead>\n",
       "  <tbody>\n",
       "    <tr>\n",
       "      <td>xxbos \\n  xxmaj alexander , xxmaj catherine xxup m. xxup s. , and xxmaj stanley xxmaj wells ( eds . ) , xxmaj shakespeare and xxmaj race ( xxmaj cambridge : xxmaj cambridge xxmaj university xxmaj press , 2000 ) \\n  — xxmaj shakespeare and xxmaj sexuality ( xxmaj cambridge : xxmaj cambridge xxmaj university xxmaj press , 2001 ) \\n  xxmaj xxunk , xxup g. xxmaj</td>\n",
       "      <td>William_Shakespeare</td>\n",
       "    </tr>\n",
       "    <tr>\n",
       "      <td>xxbos xxmaj they fight . xxmaj the xxmaj earl of xxmaj warwick comes and rescues xxmaj richard . xxmaj lord xxmaj clifford flies xxmaj nay , xxmaj warwick , single out some other chase — \\n  xxmaj for i myself will hunt this wolf to death . xxmaj exeunt 2.5 \\n  xxmaj alarum . xxmaj enter xxmaj king xxmaj henry \\n  xxup king xxup henry xxmaj this</td>\n",
       "      <td>William_Shakespeare</td>\n",
       "    </tr>\n",
       "    <tr>\n",
       "      <td>xxbos xxmaj it was evident from this time onwards that the turning movement had \\n  failed , and that the enemy had developed such strength that we were \\n  ourselves in imminent danger of being turned . xxmaj the situation was a most \\n  serious one : for if xxmaj clements 's force could be brushed aside there would \\n  be nothing to keep the enemy</td>\n",
       "      <td>Arthur_Conan_Doyle</td>\n",
       "    </tr>\n",
       "    <tr>\n",
       "      <td>xxbos xxmaj the movement was to be upon the old model , and in result it proved to \\n  be only too truly so . xxmaj french 's cavalry were to get round one flank , xxmaj le \\n  xxmaj gallais 's mounted infantry round the other , and xxmaj tucker 's xxmaj division to \\n  attack in front . xxmaj nothing could be more perfect in</td>\n",
       "      <td>Arthur_Conan_Doyle</td>\n",
       "    </tr>\n",
       "    <tr>\n",
       "      <td>xxbos xxmaj come , come , you ’re mocking . xxmaj we will have no telling . xxmaj come on , i say , and first begin with her . xxup widow xxmaj she shall not . i say she shall : and first begin with her . xxmaj fie , fie , unknit that threat’ning , unkind brow , \\n  xxmaj and dart not scornful glances from those</td>\n",
       "      <td>William_Shakespeare</td>\n",
       "    </tr>\n",
       "  </tbody>\n",
       "</table>"
      ],
      "text/plain": [
       "<IPython.core.display.HTML object>"
      ]
     },
     "metadata": {
      "tags": []
     },
     "output_type": "display_data"
    }
   ],
   "source": [
    "data_clas.show_batch()"
   ]
  },
  {
   "cell_type": "markdown",
   "metadata": {
    "colab_type": "text",
    "id": "9rlXslvpdYwN"
   },
   "source": [
    "## Create text classifier model"
   ]
  },
  {
   "cell_type": "code",
   "execution_count": 0,
   "metadata": {
    "colab": {},
    "colab_type": "code",
    "id": "zuvhOqWGGaNg"
   },
   "outputs": [],
   "source": [
    "learn = text_classifier_learner(data_clas,AWD_LSTM,drop_mult = 0.5)"
   ]
  },
  {
   "cell_type": "code",
   "execution_count": 0,
   "metadata": {
    "colab": {},
    "colab_type": "code",
    "id": "88yT0NOPHBx3"
   },
   "outputs": [],
   "source": [
    "learn"
   ]
  },
  {
   "cell_type": "code",
   "execution_count": 0,
   "metadata": {
    "colab": {},
    "colab_type": "code",
    "id": "Fh6ZczMpHDAC"
   },
   "outputs": [],
   "source": [
    "learn.load_encoder('fine_tuned_enc')"
   ]
  },
  {
   "cell_type": "code",
   "execution_count": 0,
   "metadata": {
    "colab": {
     "base_uri": "https://localhost:8080/",
     "height": 1000
    },
    "colab_type": "code",
    "id": "wXKmoOOM1F_j",
    "outputId": "eaa82f67-5704-4199-ec30-ca2d0a6cb62d"
   },
   "outputs": [
    {
     "data": {
      "text/plain": [
       "RNNLearner(data=TextClasDataBunch;\n",
       "\n",
       "Train: LabelList (26540 items)\n",
       "x: TextList\n",
       "xxbos “ xxmaj he is sure to be at the laboratory , ” returned my companion . “ xxmaj he either \n",
       "  avoids the place for weeks , or else he works there from morning to \n",
       "  night . xxmaj if you like , we shall drive round together after luncheon . ” “ xxmaj certainly , ” i answered , and the conversation drifted away into other \n",
       "  channels . xxmaj as we made our way to the hospital after leaving the xxmaj holborn , xxmaj stamford \n",
       "  gave me a few more particulars about the gentleman whom i proposed to \n",
       "  take as a fellow - lodger .,xxbos xxmaj we started off for the cab together , leaving our informant incredulous , \n",
       "  but obviously uncomfortable . “ xxmaj the blundering fool , ” xxmaj holmes said , bitterly , as we drove back to our \n",
       "  lodgings . “ xxmaj just to think of his having such an incomparable bit of good \n",
       "  luck , and not taking advantage of it . ” “ i am rather in the dark still . xxmaj it is true that the description of this \n",
       "  man tallies with your idea of the second party in this mystery . xxmaj but why \n",
       "  should he come back to the house after leaving it ? xxmaj that is not the way \n",
       "  of criminals . ”,xxbos “ xxmaj the ring , man , the ring : that was what he came back for . xxmaj if we have no \n",
       "  other way of catching him , we can always bait our line with the ring . i \n",
       "  shall have him , xxmaj doctor -- xxmaj i’ll lay you two to one that i have him . i must \n",
       "  thank you for it all . i might not have gone but for you , and so have \n",
       "  missed the finest study i ever came across : a study in scarlet , eh ? \n",
       "  xxmaj why should n’t we use a little art jargon . xxmaj there ’s the scarlet thread of \n",
       "  murder running through the colourless skein of life , and our duty is \n",
       "  to unravel it , and xxunk it , and expose every inch of it . xxmaj and now \n",
       "  for lunch , and then for xxmaj norman xxmaj xxunk . xxmaj her attack and her bowing \n",
       "  are splendid . xxmaj what ’s that little thing of xxmaj xxunk ’s she plays so \n",
       "  magnificently : xxmaj xxunk - la - la - xxunk - xxunk - lay . ”,xxbos “ xxmaj that ’s rather a broad idea , ” i remarked . “ xxmaj one ’s ideas must be as broad as xxmaj nature if they are to interpret \n",
       "  xxmaj nature , ” he answered . “ xxmaj what ’s the matter ? xxmaj you ’re not looking quite \n",
       "  yourself . xxmaj this xxmaj brixton xxmaj road affair has upset you . ” “ xxmaj to tell the truth , it has , ” i said . “ i ought to be more case - hardened \n",
       "  after my xxmaj afghan experiences . i saw my own comrades hacked to pieces at \n",
       "  xxmaj xxunk without losing my nerve . ”,xxbos xxmaj he threw the paper across to me and i glanced at the place indicated . xxmaj it \n",
       "  was the first announcement in the “ xxmaj found ” column . “ xxmaj in xxmaj brixton xxmaj road , \n",
       "  this morning , ” it ran , “ a plain gold wedding ring , found in the roadway \n",
       "  between the ‘ xxmaj white xxmaj hart ’ xxmaj tavern and xxmaj holland xxmaj grove . xxmaj apply xxmaj dr. xxmaj watson , \n",
       "  xxup 221b , xxmaj baker xxmaj street , between eight and nine this evening . ” “ xxmaj excuse my using your name , ” he said . “ xxmaj if i used my own some of these \n",
       "  xxunk would recognize it , and want to meddle in the affair . ”\n",
       "y: CategoryList\n",
       "Arthur_Conan_Doyle,Arthur_Conan_Doyle,Arthur_Conan_Doyle,Arthur_Conan_Doyle,Arthur_Conan_Doyle\n",
       "Path: /content/drive/My Drive/Projects/Author_rec/data/train;\n",
       "\n",
       "Valid: LabelList (26539 items)\n",
       "x: TextList\n",
       "xxbos xxmaj sir , this should be answered . ’ xxmaj tis done already , and the messenger gone . \n",
       "  i have told him xxmaj lepidus was grown too cruel , \n",
       "  xxmaj that he his high authority abused \n",
       "  xxmaj and did deserve his change . xxmaj for what i have \n",
       "  conquered , \n",
       "  i grant him part ; but then in his xxmaj armenia , \n",
       "  xxmaj and other of his conquered kingdoms , \n",
       "  i demand the like .,xxbos \" xxmaj interesting , \" the commander said . \" xxmaj but what i meant was , why did n't you want to tell me about this ? \" xxmaj jennie shrugged . \" i do n't know . i guess i did n't want it to seem like you were under any obligation to us . xxmaj you have a habit of taking responsibility for everything and everybody around you , xxmaj willard , and i was afraid it would come across like we were trying to play on your generosity ... or your guilt . \",xxbos \" xxmaj so these ai n't the ones we 're looking for , \" said xxmaj asho , in a much lower voice . \" xxmaj when do they show up ? \" \" xxmaj when they desire to , \" said xxmaj qual . \" xxmaj sooner than we really want , i expect . \" \" xxmaj hell , bring ' em on - xxmaj i'm ready for ' em , \" said xxmaj asho . \" xxmaj if you continue to make so much noise , they will be here sooner than you think , \" said xxmaj qual , very softly . \" xxmaj but i do n't think you will get very much chance to shoot at them . \",xxbos along at his best clip , ten or twelve feet in the rear , xxmaj cappen stopped within a coin 's breadth , whirled about , and threw his shaft . xxmaj he did not do that as his comrade had done . xxmaj he pitched it between the guard 's legs . xxmaj the man crashed to the grass . xxmaj cappen plunged in . xxmaj he did n't risk trying for a stab . xxmaj that would let the armoured combatant grapple him . xxmaj he wrenched the halberd loose and skipped off .,xxbos _ xxmaj jan. xxunk perfect nonsense it is for doctors to prescribe rest \n",
       "  when rest is out of the question ! xxmaj asses ! xxmaj they might as well shout to a \n",
       "  man who has a pack of wolves at his heels that what he wants is absolute \n",
       "  quiet . xxmaj my figures must be out by a certain date ; unless they are so , i \n",
       "  shall lose the chance of my lifetime , so how on earth am i to rest ? i 'll \n",
       "  take a week or so after the trial . xxmaj perhaps i was myself a fool to go to the doctor at all . xxmaj but i get \n",
       "  nervous and highly - strung when i sit alone at my work at night . xxmaj it 's \n",
       "  not a pain -- only a sort of fullness of the head with an occasional mist \n",
       "  over the eyes . i thought perhaps some xxunk , or chloral , or something \n",
       "  of the kind might do me good . xxmaj but stop work ? xxmaj it 's absurd to ask such a \n",
       "  thing . xxmaj it 's like a long distance race . xxmaj you feel queer at first and your \n",
       "  heart thumps and your lungs pant , but if you have only the pluck to keep \n",
       "  on , you get your second wind . i 'll stick to my work and wait for my \n",
       "  second wind . xxmaj if it never comes -- all the same , i 'll stick to my work . xxmaj two \n",
       "  ledgers are done , and i am well on in the third . xxmaj the rascal has covered \n",
       "  his tracks well , but i pick them up for all that .\n",
       "y: CategoryList\n",
       "William_Shakespeare,Robert_Asprin,Robert_Asprin,Robert_Asprin,Arthur_Conan_Doyle\n",
       "Path: /content/drive/My Drive/Projects/Author_rec/data/train;\n",
       "\n",
       "Test: None, model=SequentialRNN(\n",
       "  (0): MultiBatchEncoder(\n",
       "    (module): AWD_LSTM(\n",
       "      (encoder): Embedding(34568, 400, padding_idx=1)\n",
       "      (encoder_dp): EmbeddingDropout(\n",
       "        (emb): Embedding(34568, 400, padding_idx=1)\n",
       "      )\n",
       "      (rnns): ModuleList(\n",
       "        (0): WeightDropout(\n",
       "          (module): LSTM(400, 1152, batch_first=True)\n",
       "        )\n",
       "        (1): WeightDropout(\n",
       "          (module): LSTM(1152, 1152, batch_first=True)\n",
       "        )\n",
       "        (2): WeightDropout(\n",
       "          (module): LSTM(1152, 400, batch_first=True)\n",
       "        )\n",
       "      )\n",
       "      (input_dp): RNNDropout()\n",
       "      (hidden_dps): ModuleList(\n",
       "        (0): RNNDropout()\n",
       "        (1): RNNDropout()\n",
       "        (2): RNNDropout()\n",
       "      )\n",
       "    )\n",
       "  )\n",
       "  (1): PoolingLinearClassifier(\n",
       "    (layers): Sequential(\n",
       "      (0): BatchNorm1d(1200, eps=1e-05, momentum=0.1, affine=True, track_running_stats=True)\n",
       "      (1): Dropout(p=0.2)\n",
       "      (2): Linear(in_features=1200, out_features=50, bias=True)\n",
       "      (3): ReLU(inplace)\n",
       "      (4): BatchNorm1d(50, eps=1e-05, momentum=0.1, affine=True, track_running_stats=True)\n",
       "      (5): Dropout(p=0.1)\n",
       "      (6): Linear(in_features=50, out_features=3, bias=True)\n",
       "    )\n",
       "  )\n",
       "), opt_func=functools.partial(<class 'torch.optim.adam.Adam'>, betas=(0.9, 0.99)), loss_func=FlattenedLoss of CrossEntropyLoss(), metrics=[<function accuracy at 0x7f509245abf8>], true_wd=True, bn_wd=True, wd=0.01, train_bn=True, path=PosixPath('/content/drive/My Drive/Projects/Author_rec/data/data_model'), model_dir='models', callback_fns=[functools.partial(<class 'fastai.basic_train.Recorder'>, add_time=True, silent=False)], callbacks=[RNNTrainer\n",
       "learn: RNNLearner(data=TextClasDataBunch;\n",
       "\n",
       "Train: LabelList (26540 items)\n",
       "x: TextList\n",
       "xxbos “ xxmaj he is sure to be at the laboratory , ” returned my companion . “ xxmaj he either \n",
       "  avoids the place for weeks , or else he works there from morning to \n",
       "  night . xxmaj if you like , we shall drive round together after luncheon . ” “ xxmaj certainly , ” i answered , and the conversation drifted away into other \n",
       "  channels . xxmaj as we made our way to the hospital after leaving the xxmaj holborn , xxmaj stamford \n",
       "  gave me a few more particulars about the gentleman whom i proposed to \n",
       "  take as a fellow - lodger .,xxbos xxmaj we started off for the cab together , leaving our informant incredulous , \n",
       "  but obviously uncomfortable . “ xxmaj the blundering fool , ” xxmaj holmes said , bitterly , as we drove back to our \n",
       "  lodgings . “ xxmaj just to think of his having such an incomparable bit of good \n",
       "  luck , and not taking advantage of it . ” “ i am rather in the dark still . xxmaj it is true that the description of this \n",
       "  man tallies with your idea of the second party in this mystery . xxmaj but why \n",
       "  should he come back to the house after leaving it ? xxmaj that is not the way \n",
       "  of criminals . ”,xxbos “ xxmaj the ring , man , the ring : that was what he came back for . xxmaj if we have no \n",
       "  other way of catching him , we can always bait our line with the ring . i \n",
       "  shall have him , xxmaj doctor -- xxmaj i’ll lay you two to one that i have him . i must \n",
       "  thank you for it all . i might not have gone but for you , and so have \n",
       "  missed the finest study i ever came across : a study in scarlet , eh ? \n",
       "  xxmaj why should n’t we use a little art jargon . xxmaj there ’s the scarlet thread of \n",
       "  murder running through the colourless skein of life , and our duty is \n",
       "  to unravel it , and xxunk it , and expose every inch of it . xxmaj and now \n",
       "  for lunch , and then for xxmaj norman xxmaj xxunk . xxmaj her attack and her bowing \n",
       "  are splendid . xxmaj what ’s that little thing of xxmaj xxunk ’s she plays so \n",
       "  magnificently : xxmaj xxunk - la - la - xxunk - xxunk - lay . ”,xxbos “ xxmaj that ’s rather a broad idea , ” i remarked . “ xxmaj one ’s ideas must be as broad as xxmaj nature if they are to interpret \n",
       "  xxmaj nature , ” he answered . “ xxmaj what ’s the matter ? xxmaj you ’re not looking quite \n",
       "  yourself . xxmaj this xxmaj brixton xxmaj road affair has upset you . ” “ xxmaj to tell the truth , it has , ” i said . “ i ought to be more case - hardened \n",
       "  after my xxmaj afghan experiences . i saw my own comrades hacked to pieces at \n",
       "  xxmaj xxunk without losing my nerve . ”,xxbos xxmaj he threw the paper across to me and i glanced at the place indicated . xxmaj it \n",
       "  was the first announcement in the “ xxmaj found ” column . “ xxmaj in xxmaj brixton xxmaj road , \n",
       "  this morning , ” it ran , “ a plain gold wedding ring , found in the roadway \n",
       "  between the ‘ xxmaj white xxmaj hart ’ xxmaj tavern and xxmaj holland xxmaj grove . xxmaj apply xxmaj dr. xxmaj watson , \n",
       "  xxup 221b , xxmaj baker xxmaj street , between eight and nine this evening . ” “ xxmaj excuse my using your name , ” he said . “ xxmaj if i used my own some of these \n",
       "  xxunk would recognize it , and want to meddle in the affair . ”\n",
       "y: CategoryList\n",
       "Arthur_Conan_Doyle,Arthur_Conan_Doyle,Arthur_Conan_Doyle,Arthur_Conan_Doyle,Arthur_Conan_Doyle\n",
       "Path: /content/drive/My Drive/Projects/Author_rec/data/train;\n",
       "\n",
       "Valid: LabelList (26539 items)\n",
       "x: TextList\n",
       "xxbos xxmaj sir , this should be answered . ’ xxmaj tis done already , and the messenger gone . \n",
       "  i have told him xxmaj lepidus was grown too cruel , \n",
       "  xxmaj that he his high authority abused \n",
       "  xxmaj and did deserve his change . xxmaj for what i have \n",
       "  conquered , \n",
       "  i grant him part ; but then in his xxmaj armenia , \n",
       "  xxmaj and other of his conquered kingdoms , \n",
       "  i demand the like .,xxbos \" xxmaj interesting , \" the commander said . \" xxmaj but what i meant was , why did n't you want to tell me about this ? \" xxmaj jennie shrugged . \" i do n't know . i guess i did n't want it to seem like you were under any obligation to us . xxmaj you have a habit of taking responsibility for everything and everybody around you , xxmaj willard , and i was afraid it would come across like we were trying to play on your generosity ... or your guilt . \",xxbos \" xxmaj so these ai n't the ones we 're looking for , \" said xxmaj asho , in a much lower voice . \" xxmaj when do they show up ? \" \" xxmaj when they desire to , \" said xxmaj qual . \" xxmaj sooner than we really want , i expect . \" \" xxmaj hell , bring ' em on - xxmaj i'm ready for ' em , \" said xxmaj asho . \" xxmaj if you continue to make so much noise , they will be here sooner than you think , \" said xxmaj qual , very softly . \" xxmaj but i do n't think you will get very much chance to shoot at them . \",xxbos along at his best clip , ten or twelve feet in the rear , xxmaj cappen stopped within a coin 's breadth , whirled about , and threw his shaft . xxmaj he did not do that as his comrade had done . xxmaj he pitched it between the guard 's legs . xxmaj the man crashed to the grass . xxmaj cappen plunged in . xxmaj he did n't risk trying for a stab . xxmaj that would let the armoured combatant grapple him . xxmaj he wrenched the halberd loose and skipped off .,xxbos _ xxmaj jan. xxunk perfect nonsense it is for doctors to prescribe rest \n",
       "  when rest is out of the question ! xxmaj asses ! xxmaj they might as well shout to a \n",
       "  man who has a pack of wolves at his heels that what he wants is absolute \n",
       "  quiet . xxmaj my figures must be out by a certain date ; unless they are so , i \n",
       "  shall lose the chance of my lifetime , so how on earth am i to rest ? i 'll \n",
       "  take a week or so after the trial . xxmaj perhaps i was myself a fool to go to the doctor at all . xxmaj but i get \n",
       "  nervous and highly - strung when i sit alone at my work at night . xxmaj it 's \n",
       "  not a pain -- only a sort of fullness of the head with an occasional mist \n",
       "  over the eyes . i thought perhaps some xxunk , or chloral , or something \n",
       "  of the kind might do me good . xxmaj but stop work ? xxmaj it 's absurd to ask such a \n",
       "  thing . xxmaj it 's like a long distance race . xxmaj you feel queer at first and your \n",
       "  heart thumps and your lungs pant , but if you have only the pluck to keep \n",
       "  on , you get your second wind . i 'll stick to my work and wait for my \n",
       "  second wind . xxmaj if it never comes -- all the same , i 'll stick to my work . xxmaj two \n",
       "  ledgers are done , and i am well on in the third . xxmaj the rascal has covered \n",
       "  his tracks well , but i pick them up for all that .\n",
       "y: CategoryList\n",
       "William_Shakespeare,Robert_Asprin,Robert_Asprin,Robert_Asprin,Arthur_Conan_Doyle\n",
       "Path: /content/drive/My Drive/Projects/Author_rec/data/train;\n",
       "\n",
       "Test: None, model=SequentialRNN(\n",
       "  (0): MultiBatchEncoder(\n",
       "    (module): AWD_LSTM(\n",
       "      (encoder): Embedding(34568, 400, padding_idx=1)\n",
       "      (encoder_dp): EmbeddingDropout(\n",
       "        (emb): Embedding(34568, 400, padding_idx=1)\n",
       "      )\n",
       "      (rnns): ModuleList(\n",
       "        (0): WeightDropout(\n",
       "          (module): LSTM(400, 1152, batch_first=True)\n",
       "        )\n",
       "        (1): WeightDropout(\n",
       "          (module): LSTM(1152, 1152, batch_first=True)\n",
       "        )\n",
       "        (2): WeightDropout(\n",
       "          (module): LSTM(1152, 400, batch_first=True)\n",
       "        )\n",
       "      )\n",
       "      (input_dp): RNNDropout()\n",
       "      (hidden_dps): ModuleList(\n",
       "        (0): RNNDropout()\n",
       "        (1): RNNDropout()\n",
       "        (2): RNNDropout()\n",
       "      )\n",
       "    )\n",
       "  )\n",
       "  (1): PoolingLinearClassifier(\n",
       "    (layers): Sequential(\n",
       "      (0): BatchNorm1d(1200, eps=1e-05, momentum=0.1, affine=True, track_running_stats=True)\n",
       "      (1): Dropout(p=0.2)\n",
       "      (2): Linear(in_features=1200, out_features=50, bias=True)\n",
       "      (3): ReLU(inplace)\n",
       "      (4): BatchNorm1d(50, eps=1e-05, momentum=0.1, affine=True, track_running_stats=True)\n",
       "      (5): Dropout(p=0.1)\n",
       "      (6): Linear(in_features=50, out_features=3, bias=True)\n",
       "    )\n",
       "  )\n",
       "), opt_func=functools.partial(<class 'torch.optim.adam.Adam'>, betas=(0.9, 0.99)), loss_func=FlattenedLoss of CrossEntropyLoss(), metrics=[<function accuracy at 0x7f509245abf8>], true_wd=True, bn_wd=True, wd=0.01, train_bn=True, path=PosixPath('/content/drive/My Drive/Projects/Author_rec/data/data_model'), model_dir='models', callback_fns=[functools.partial(<class 'fastai.basic_train.Recorder'>, add_time=True, silent=False)], callbacks=[...], layer_groups=[Sequential(\n",
       "  (0): Embedding(34568, 400, padding_idx=1)\n",
       "  (1): EmbeddingDropout(\n",
       "    (emb): Embedding(34568, 400, padding_idx=1)\n",
       "  )\n",
       "), Sequential(\n",
       "  (0): WeightDropout(\n",
       "    (module): LSTM(400, 1152, batch_first=True)\n",
       "  )\n",
       "  (1): RNNDropout()\n",
       "), Sequential(\n",
       "  (0): WeightDropout(\n",
       "    (module): LSTM(1152, 1152, batch_first=True)\n",
       "  )\n",
       "  (1): RNNDropout()\n",
       "), Sequential(\n",
       "  (0): WeightDropout(\n",
       "    (module): LSTM(1152, 400, batch_first=True)\n",
       "  )\n",
       "  (1): RNNDropout()\n",
       "), Sequential(\n",
       "  (0): PoolingLinearClassifier(\n",
       "    (layers): Sequential(\n",
       "      (0): BatchNorm1d(1200, eps=1e-05, momentum=0.1, affine=True, track_running_stats=True)\n",
       "      (1): Dropout(p=0.2)\n",
       "      (2): Linear(in_features=1200, out_features=50, bias=True)\n",
       "      (3): ReLU(inplace)\n",
       "      (4): BatchNorm1d(50, eps=1e-05, momentum=0.1, affine=True, track_running_stats=True)\n",
       "      (5): Dropout(p=0.1)\n",
       "      (6): Linear(in_features=50, out_features=3, bias=True)\n",
       "    )\n",
       "  )\n",
       ")], add_time=True, silent=False, cb_fns_registered=False)\n",
       "alpha: 2.0\n",
       "beta: 1.0], layer_groups=[Sequential(\n",
       "  (0): Embedding(34568, 400, padding_idx=1)\n",
       "  (1): EmbeddingDropout(\n",
       "    (emb): Embedding(34568, 400, padding_idx=1)\n",
       "  )\n",
       "), Sequential(\n",
       "  (0): WeightDropout(\n",
       "    (module): LSTM(400, 1152, batch_first=True)\n",
       "  )\n",
       "  (1): RNNDropout()\n",
       "), Sequential(\n",
       "  (0): WeightDropout(\n",
       "    (module): LSTM(1152, 1152, batch_first=True)\n",
       "  )\n",
       "  (1): RNNDropout()\n",
       "), Sequential(\n",
       "  (0): WeightDropout(\n",
       "    (module): LSTM(1152, 400, batch_first=True)\n",
       "  )\n",
       "  (1): RNNDropout()\n",
       "), Sequential(\n",
       "  (0): PoolingLinearClassifier(\n",
       "    (layers): Sequential(\n",
       "      (0): BatchNorm1d(1200, eps=1e-05, momentum=0.1, affine=True, track_running_stats=True)\n",
       "      (1): Dropout(p=0.2)\n",
       "      (2): Linear(in_features=1200, out_features=50, bias=True)\n",
       "      (3): ReLU(inplace)\n",
       "      (4): BatchNorm1d(50, eps=1e-05, momentum=0.1, affine=True, track_running_stats=True)\n",
       "      (5): Dropout(p=0.1)\n",
       "      (6): Linear(in_features=50, out_features=3, bias=True)\n",
       "    )\n",
       "  )\n",
       ")], add_time=True, silent=False, cb_fns_registered=False)"
      ]
     },
     "execution_count": 30,
     "metadata": {
      "tags": []
     },
     "output_type": "execute_result"
    }
   ],
   "source": [
    "learn.load('/content/drive/My Drive/Projects/Author_rec/data/train/models/clas_unfreeze-all-best')"
   ]
  },
  {
   "cell_type": "code",
   "execution_count": 0,
   "metadata": {
    "colab": {
     "base_uri": "https://localhost:8080/",
     "height": 34
    },
    "colab_type": "code",
    "id": "9vpPMJHfHYsU",
    "outputId": "328550cb-f840-4e97-f0a4-893cef0272a5"
   },
   "outputs": [
    {
     "data": {
      "text/html": [],
      "text/plain": [
       "<IPython.core.display.HTML object>"
      ]
     },
     "metadata": {
      "tags": []
     },
     "output_type": "display_data"
    },
    {
     "name": "stdout",
     "output_type": "stream",
     "text": [
      "LR Finder is complete, type {learner_name}.recorder.plot() to see the graph.\n"
     ]
    }
   ],
   "source": [
    "learn.lr_find()"
   ]
  },
  {
   "cell_type": "code",
   "execution_count": 0,
   "metadata": {
    "colab": {
     "base_uri": "https://localhost:8080/",
     "height": 283
    },
    "colab_type": "code",
    "id": "N_5nuj_xHifV",
    "outputId": "04c88c4a-35bd-4eff-84a1-d107f2904799"
   },
   "outputs": [
    {
     "data": {
      "image/png": "[encoded data removed]",
      "text/plain": [
       "<Figure size 432x288 with 1 Axes>"
      ]
     },
     "metadata": {
      "tags": []
     },
     "output_type": "display_data"
    }
   ],
   "source": [
    "learn.recorder.plot()"
   ]
  },
  {
   "cell_type": "code",
   "execution_count": 0,
   "metadata": {
    "colab": {
     "base_uri": "https://localhost:8080/",
     "height": 77
    },
    "colab_type": "code",
    "id": "1BuQkWTwHmHv",
    "outputId": "75bab9f3-a4a4-4c9b-b23a-27f75a782ccd"
   },
   "outputs": [
    {
     "data": {
      "text/html": [
       "<table border=\"1\" class=\"dataframe\">\n",
       "  <thead>\n",
       "    <tr style=\"text-align: left;\">\n",
       "      <th>epoch</th>\n",
       "      <th>train_loss</th>\n",
       "      <th>valid_loss</th>\n",
       "      <th>accuracy</th>\n",
       "      <th>time</th>\n",
       "    </tr>\n",
       "  </thead>\n",
       "  <tbody>\n",
       "    <tr>\n",
       "      <td>0</td>\n",
       "      <td>0.014788</td>\n",
       "      <td>0.002781</td>\n",
       "      <td>0.999284</td>\n",
       "      <td>02:31</td>\n",
       "    </tr>\n",
       "  </tbody>\n",
       "</table>"
      ],
      "text/plain": [
       "<IPython.core.display.HTML object>"
      ]
     },
     "metadata": {
      "tags": []
     },
     "output_type": "display_data"
    }
   ],
   "source": [
    "learn.fit_one_cycle(1,9e-03,moms =(0.8,0.7)) "
   ]
  },
  {
   "cell_type": "code",
   "execution_count": 0,
   "metadata": {
    "colab": {},
    "colab_type": "code",
    "id": "JeLg1qarIZ9O"
   },
   "outputs": [],
   "source": [
    "learn.save('clas_head_9e-03')"
   ]
  },
  {
   "cell_type": "code",
   "execution_count": 0,
   "metadata": {
    "colab": {},
    "colab_type": "code",
    "id": "G0HhJumjJSTw"
   },
   "outputs": [],
   "source": [
    "learn.load('clas_head_9e-03')"
   ]
  },
  {
   "cell_type": "markdown",
   "metadata": {
    "colab_type": "text",
    "id": "1GC6nHpmQ8-R"
   },
   "source": [
    "# Interpretation"
   ]
  },
  {
   "cell_type": "code",
   "execution_count": 0,
   "metadata": {
    "colab": {},
    "colab_type": "code",
    "id": "gVcNWk6VKqum"
   },
   "outputs": [],
   "source": [
    "txt_ci = TextClassificationInterpretation.from_learner(learn)"
   ]
  },
  {
   "cell_type": "code",
   "execution_count": 0,
   "metadata": {
    "colab": {},
    "colab_type": "code",
    "id": "22iAdfGwPcB5"
   },
   "outputs": [],
   "source": [
    "import matplotlib.cm as cm"
   ]
  },
  {
   "cell_type": "code",
   "execution_count": 0,
   "metadata": {
    "colab": {
     "base_uri": "https://localhost:8080/",
     "height": 52
    },
    "colab_type": "code",
    "id": "GjnWzqNqPBA6",
    "outputId": "e7b47ce7-65e1-46b9-c90b-471a689ac5f7"
   },
   "outputs": [
    {
     "data": {
      "text/html": [
       "<span style=\"font-family: monospace;\"><span title=\"0.058\" style=\"background-color: rgba(246, 244, 249, 0.5);\">xxbos</span> <span title=\"0.084\" style=\"background-color: rgba(243, 241, 247, 0.5);\">xxmaj</span> <span title=\"1.000\" style=\"background-color: rgba(63, 0, 125, 0.5);\">puck</span> <span title=\"0.130\" style=\"background-color: rgba(238, 236, 244, 0.5);\">i</span> <span title=\"0.223\" style=\"background-color: rgba(223, 222, 237, 0.5);\">’ll</span> <span title=\"0.179\" style=\"background-color: rgba(230, 229, 240, 0.5);\">follow</span> <span title=\"0.096\" style=\"background-color: rgba(242, 240, 246, 0.5);\">you</span> <span title=\"0.057\" style=\"background-color: rgba(246, 244, 249, 0.5);\">,</span> <span title=\"0.084\" style=\"background-color: rgba(243, 241, 247, 0.5);\">i</span> <span title=\"0.186\" style=\"background-color: rgba(229, 227, 240, 0.5);\">’ll</span> <span title=\"0.157\" style=\"background-color: rgba(233, 232, 242, 0.5);\">lead</span> <span title=\"0.097\" style=\"background-color: rgba(242, 240, 246, 0.5);\">you</span> <span title=\"0.120\" style=\"background-color: rgba(239, 237, 245, 0.5);\">about</span> <span title=\"0.090\" style=\"background-color: rgba(243, 241, 247, 0.5);\">a</span> <span title=\"0.186\" style=\"background-color: rgba(229, 227, 240, 0.5);\">round</span> <span title=\"0.061\" style=\"background-color: rgba(245, 244, 249, 0.5);\">,</span> <span title=\"0.070\" style=\"background-color: rgba(244, 243, 248, 0.5);\">xxmaj</span> <span title=\"0.061\" style=\"background-color: rgba(245, 244, 249, 0.5);\">through</span> <span title=\"0.282\" style=\"background-color: rgba(210, 210, 231, 0.5);\">bog</span> <span title=\"0.778\" style=\"background-color: rgba(100, 70, 158, 0.5);\">,</span> <span title=\"0.094\" style=\"background-color: rgba(242, 240, 247, 0.5);\">through</span> <span title=\"0.115\" style=\"background-color: rgba(240, 238, 245, 0.5);\">bush</span> <span title=\"0.150\" style=\"background-color: rgba(234, 233, 243, 0.5);\">,</span> <span title=\"0.049\" style=\"background-color: rgba(247, 245, 249, 0.5);\">through</span> <span title=\"0.143\" style=\"background-color: rgba(236, 234, 243, 0.5);\">brake</span> <span title=\"0.393\" style=\"background-color: rgba(183, 184, 217, 0.5);\">,</span> <span title=\"0.066\" style=\"background-color: rgba(245, 243, 248, 0.5);\">through</span> <span title=\"0.172\" style=\"background-color: rgba(231, 229, 241, 0.5);\">brier</span> <span title=\"0.472\" style=\"background-color: rgba(165, 162, 204, 0.5);\">:</span> <span title=\"0.098\" style=\"background-color: rgba(241, 240, 246, 0.5);\">xxmaj</span> <span title=\"0.076\" style=\"background-color: rgba(244, 242, 248, 0.5);\">sometime</span> <span title=\"0.046\" style=\"background-color: rgba(247, 246, 250, 0.5);\">a</span> <span title=\"0.243\" style=\"background-color: rgba(219, 219, 235, 0.5);\">horse</span> <span title=\"0.067\" style=\"background-color: rgba(245, 243, 248, 0.5);\">i</span> <span title=\"0.191\" style=\"background-color: rgba(228, 227, 239, 0.5);\">’ll</span> <span title=\"0.061\" style=\"background-color: rgba(245, 244, 249, 0.5);\">be</span> <span title=\"0.119\" style=\"background-color: rgba(239, 237, 245, 0.5);\">,</span> <span title=\"0.066\" style=\"background-color: rgba(245, 243, 248, 0.5);\">sometime</span> <span title=\"0.049\" style=\"background-color: rgba(247, 245, 249, 0.5);\">a</span> <span title=\"0.218\" style=\"background-color: rgba(223, 223, 237, 0.5);\">hound</span> <span title=\"0.068\" style=\"background-color: rgba(245, 243, 248, 0.5);\">,</span> <span title=\"0.215\" style=\"background-color: rgba(223, 223, 237, 0.5);\">a</span> <span title=\"0.042\" style=\"background-color: rgba(247, 246, 250, 0.5);\">hog</span> <span title=\"0.077\" style=\"background-color: rgba(244, 242, 248, 0.5);\">,</span> <span title=\"0.066\" style=\"background-color: rgba(245, 243, 248, 0.5);\">a</span> <span title=\"0.405\" style=\"background-color: rgba(181, 180, 215, 0.5);\">headless</span> <span title=\"0.056\" style=\"background-color: rgba(246, 244, 249, 0.5);\">bear</span> <span title=\"0.071\" style=\"background-color: rgba(244, 243, 248, 0.5);\">,</span> <span title=\"0.313\" style=\"background-color: rgba(202, 203, 227, 0.5);\">sometime</span> <span title=\"0.108\" style=\"background-color: rgba(240, 239, 246, 0.5);\">a</span> <span title=\"0.037\" style=\"background-color: rgba(248, 247, 250, 0.5);\">fire</span> <span title=\"0.164\" style=\"background-color: rgba(232, 231, 242, 0.5);\">;</span> <span title=\"0.055\" style=\"background-color: rgba(246, 244, 249, 0.5);\">xxmaj</span> <span title=\"0.103\" style=\"background-color: rgba(241, 239, 246, 0.5);\">and</span> <span title=\"0.085\" style=\"background-color: rgba(243, 241, 247, 0.5);\">neigh</span> <span title=\"0.116\" style=\"background-color: rgba(240, 238, 245, 0.5);\">,</span> <span title=\"0.039\" style=\"background-color: rgba(248, 247, 250, 0.5);\">and</span> <span title=\"0.077\" style=\"background-color: rgba(244, 242, 248, 0.5);\">bark</span> <span title=\"0.462\" style=\"background-color: rgba(166, 164, 205, 0.5);\">,</span> <span title=\"0.050\" style=\"background-color: rgba(247, 245, 249, 0.5);\">and</span> <span title=\"0.036\" style=\"background-color: rgba(248, 247, 250, 0.5);\">grunt</span> <span title=\"0.164\" style=\"background-color: rgba(232, 231, 242, 0.5);\">,</span> <span title=\"0.030\" style=\"background-color: rgba(249, 247, 251, 0.5);\">and</span> <span title=\"0.056\" style=\"background-color: rgba(246, 244, 249, 0.5);\">roar</span> <span title=\"0.178\" style=\"background-color: rgba(230, 229, 240, 0.5);\">,</span> <span title=\"0.035\" style=\"background-color: rgba(248, 247, 250, 0.5);\">and</span> <span title=\"0.049\" style=\"background-color: rgba(247, 245, 249, 0.5);\">burn</span> <span title=\"0.158\" style=\"background-color: rgba(233, 232, 242, 0.5);\">,</span> <span title=\"0.040\" style=\"background-color: rgba(247, 246, 250, 0.5);\">xxmaj</span> <span title=\"0.056\" style=\"background-color: rgba(246, 244, 249, 0.5);\">like</span> <span title=\"0.113\" style=\"background-color: rgba(240, 238, 245, 0.5);\">horse</span> <span title=\"0.044\" style=\"background-color: rgba(247, 246, 250, 0.5);\">,</span> <span title=\"0.094\" style=\"background-color: rgba(242, 240, 246, 0.5);\">hound</span> <span title=\"0.034\" style=\"background-color: rgba(248, 247, 250, 0.5);\">,</span> <span title=\"0.094\" style=\"background-color: rgba(242, 240, 247, 0.5);\">hog</span> <span title=\"0.174\" style=\"background-color: rgba(231, 229, 241, 0.5);\">,</span> <span title=\"0.044\" style=\"background-color: rgba(247, 246, 250, 0.5);\">bear</span> <span title=\"0.158\" style=\"background-color: rgba(233, 232, 242, 0.5);\">,</span> <span title=\"0.045\" style=\"background-color: rgba(247, 246, 250, 0.5);\">fire</span> <span title=\"0.250\" style=\"background-color: rgba(218, 218, 235, 0.5);\">,</span> <span title=\"0.042\" style=\"background-color: rgba(247, 246, 250, 0.5);\">at</span> <span title=\"0.088\" style=\"background-color: rgba(243, 241, 247, 0.5);\">every</span> <span title=\"0.037\" style=\"background-color: rgba(248, 247, 250, 0.5);\">turn</span> <span title=\"0.087\" style=\"background-color: rgba(243, 241, 247, 0.5);\">.</span></span>"
      ],
      "text/plain": [
       "<IPython.core.display.HTML object>"
      ]
     },
     "metadata": {
      "tags": []
     },
     "output_type": "display_data"
    }
   ],
   "source": [
    "test_text = '''Puck I’ll follow you, I’ll lead you about a round,\n",
    "Through bog, through bush, through brake, through brier:\n",
    "Sometime a horse I’ll be, sometime a hound,\n",
    "A hog, a headless bear, sometime a fire;\n",
    "And neigh, and bark, and grunt, and roar, and burn,\n",
    "Like horse, hound, hog, bear, fire, at every turn.'''\n",
    "txt_ci.show_intrinsic_attention(test_text,cmap=cm.Purples)"
   ]
  },
  {
   "cell_type": "code",
   "execution_count": 0,
   "metadata": {
    "colab": {},
    "colab_type": "code",
    "id": "QBaW15GHPbSy"
   },
   "outputs": [],
   "source": [
    "txt_ci.intrinsic_attention(test_text)[0]"
   ]
  },
  {
   "cell_type": "code",
   "execution_count": 0,
   "metadata": {
    "colab": {},
    "colab_type": "code",
    "id": "swohT_MHP2HI"
   },
   "outputs": [],
   "source": [
    "txt_ci.show_top_losses(5)"
   ]
  },
  {
   "cell_type": "markdown",
   "metadata": {
    "colab_type": "text",
    "id": "xq9ieScnRQd9"
   },
   "source": [
    "# Classifier tune"
   ]
  },
  {
   "cell_type": "code",
   "execution_count": 0,
   "metadata": {
    "colab": {},
    "colab_type": "code",
    "id": "9ViyoRimRSUr"
   },
   "outputs": [],
   "source": [
    "learn.freeze_to(-2)"
   ]
  },
  {
   "cell_type": "code",
   "execution_count": 0,
   "metadata": {
    "colab": {
     "base_uri": "https://localhost:8080/",
     "height": 77
    },
    "colab_type": "code",
    "id": "ysZ7V4kvRak7",
    "outputId": "3cde31f6-84be-4b24-d223-df50d8d3fb03"
   },
   "outputs": [
    {
     "data": {
      "text/html": [
       "<table border=\"1\" class=\"dataframe\">\n",
       "  <thead>\n",
       "    <tr style=\"text-align: left;\">\n",
       "      <th>epoch</th>\n",
       "      <th>train_loss</th>\n",
       "      <th>valid_loss</th>\n",
       "      <th>accuracy</th>\n",
       "      <th>time</th>\n",
       "    </tr>\n",
       "  </thead>\n",
       "  <tbody>\n",
       "    <tr>\n",
       "      <td>0</td>\n",
       "      <td>0.008034</td>\n",
       "      <td>0.001550</td>\n",
       "      <td>0.999661</td>\n",
       "      <td>02:54</td>\n",
       "    </tr>\n",
       "  </tbody>\n",
       "</table>"
      ],
      "text/plain": [
       "<IPython.core.display.HTML object>"
      ]
     },
     "metadata": {
      "tags": []
     },
     "output_type": "display_data"
    }
   ],
   "source": [
    "learn.fit_one_cycle(1,slice(1e-2/(2.6**4),1e-02),moms = (0.8,0.7))"
   ]
  },
  {
   "cell_type": "code",
   "execution_count": 0,
   "metadata": {
    "colab": {},
    "colab_type": "code",
    "id": "3g2_iNWJSMp_"
   },
   "outputs": [],
   "source": [
    "learn.save('clas_freeze-2')"
   ]
  },
  {
   "cell_type": "code",
   "execution_count": 0,
   "metadata": {
    "colab": {},
    "colab_type": "code",
    "id": "FMOTtBADVscK"
   },
   "outputs": [],
   "source": [
    "learn.freeze_to(-3)"
   ]
  },
  {
   "cell_type": "code",
   "execution_count": 0,
   "metadata": {
    "colab": {
     "base_uri": "https://localhost:8080/",
     "height": 77
    },
    "colab_type": "code",
    "id": "jqkXbU9FVpWF",
    "outputId": "52f91ead-e628-46b2-e459-da921eca0bc4"
   },
   "outputs": [
    {
     "data": {
      "text/html": [
       "<table border=\"1\" class=\"dataframe\">\n",
       "  <thead>\n",
       "    <tr style=\"text-align: left;\">\n",
       "      <th>epoch</th>\n",
       "      <th>train_loss</th>\n",
       "      <th>valid_loss</th>\n",
       "      <th>accuracy</th>\n",
       "      <th>time</th>\n",
       "    </tr>\n",
       "  </thead>\n",
       "  <tbody>\n",
       "    <tr>\n",
       "      <td>0</td>\n",
       "      <td>0.003324</td>\n",
       "      <td>0.001194</td>\n",
       "      <td>0.999623</td>\n",
       "      <td>03:57</td>\n",
       "    </tr>\n",
       "  </tbody>\n",
       "</table>"
      ],
      "text/plain": [
       "<IPython.core.display.HTML object>"
      ]
     },
     "metadata": {
      "tags": []
     },
     "output_type": "display_data"
    }
   ],
   "source": [
    "learn.fit_one_cycle(1, slice(5e-3/(2.6**4),4e-3), moms=(0.8,0.7))"
   ]
  },
  {
   "cell_type": "code",
   "execution_count": 0,
   "metadata": {
    "colab": {},
    "colab_type": "code",
    "id": "Rjf_7JzOWKsk"
   },
   "outputs": [],
   "source": [
    "learn.load('clas_freeze-2')"
   ]
  },
  {
   "cell_type": "code",
   "execution_count": 0,
   "metadata": {
    "colab": {
     "base_uri": "https://localhost:8080/",
     "height": 106
    },
    "colab_type": "code",
    "id": "OItvpwTBXLbD",
    "outputId": "d5eed410-48a8-4e17-b602-e5a7563a63fb"
   },
   "outputs": [
    {
     "data": {
      "text/html": [
       "<table border=\"1\" class=\"dataframe\">\n",
       "  <thead>\n",
       "    <tr style=\"text-align: left;\">\n",
       "      <th>epoch</th>\n",
       "      <th>train_loss</th>\n",
       "      <th>valid_loss</th>\n",
       "      <th>accuracy</th>\n",
       "      <th>time</th>\n",
       "    </tr>\n",
       "  </thead>\n",
       "  <tbody>\n",
       "    <tr>\n",
       "      <td>0</td>\n",
       "      <td>0.007085</td>\n",
       "      <td>0.001421</td>\n",
       "      <td>0.999623</td>\n",
       "      <td>04:49</td>\n",
       "    </tr>\n",
       "    <tr>\n",
       "      <td>1</td>\n",
       "      <td>0.001044</td>\n",
       "      <td>0.001194</td>\n",
       "      <td>0.999699</td>\n",
       "      <td>05:01</td>\n",
       "    </tr>\n",
       "  </tbody>\n",
       "</table>"
      ],
      "text/plain": [
       "<IPython.core.display.HTML object>"
      ]
     },
     "metadata": {
      "tags": []
     },
     "output_type": "display_data"
    }
   ],
   "source": [
    "learn.unfreeze()\n",
    "learn.fit_one_cycle(2, slice(1e-3/(2.6**4),1e-3), moms=(0.8,0.7))"
   ]
  },
  {
   "cell_type": "code",
   "execution_count": 0,
   "metadata": {
    "colab": {},
    "colab_type": "code",
    "id": "IejNgdrmXRPA"
   },
   "outputs": [],
   "source": [
    "learn.save('clas_unfreeze-all-best')"
   ]
  },
  {
   "cell_type": "markdown",
   "metadata": {
    "colab_type": "text",
    "id": "IrqDSz3w4STc"
   },
   "source": [
    "## Prediction"
   ]
  },
  {
   "cell_type": "code",
   "execution_count": 0,
   "metadata": {
    "colab": {
     "base_uri": "https://localhost:8080/",
     "height": 70
    },
    "colab_type": "code",
    "id": "klFQ7V9zKF4c",
    "outputId": "408457c5-e549-44ab-f3ae-4232b5e1c92d"
   },
   "outputs": [
    {
     "data": {
      "text/plain": [
       "(Category Arthur_Conan_Doyle,\n",
       " tensor(0),\n",
       " tensor([9.9997e-01, 8.7783e-13, 3.1818e-05]))"
      ]
     },
     "execution_count": 43,
     "metadata": {
      "tags": []
     },
     "output_type": "execute_result"
    }
   ],
   "source": [
    "learn.predict('''Puck I’ll follow you, I’ll lead you about a round,\n",
    "Through bog, through bush, through brake, through brier:\n",
    "Sometime a horse I’ll be, sometime a hound,\n",
    "A hog, a headless bear, sometime a fire;\n",
    "And neigh, and bark, and grunt, and roar, and burn,\n",
    "Like horse, hound, hog, bear, fire, at every turn.''')"
   ]
  },
  {
   "cell_type": "code",
   "execution_count": 0,
   "metadata": {
    "colab": {},
    "colab_type": "code",
    "id": "4VIVcXh14W9B"
   },
   "outputs": [],
   "source": []
  }
 ],
 "metadata": {
  "accelerator": "GPU",
  "colab": {
   "collapsed_sections": [],
   "name": "Copy of Copy of Author_Rec.ipynb",
   "provenance": []
  },
  "hide_input": false,
  "kernelspec": {
   "display_name": "Python 3",
   "language": "python",
   "name": "python3"
  },
  "language_info": {
   "codemirror_mode": {
    "name": "ipython",
    "version": 3
   },
   "file_extension": ".py",
   "mimetype": "text/x-python",
   "name": "python",
   "nbconvert_exporter": "python",
   "pygments_lexer": "ipython3",
   "version": "3.7.3"
  },
  "toc": {
   "base_numbering": 1,
   "nav_menu": {},
   "number_sections": true,
   "sideBar": true,
   "skip_h1_title": false,
   "title_cell": "Table of Contents",
   "title_sidebar": "Contents",
   "toc_cell": false,
   "toc_position": {},
   "toc_section_display": true,
   "toc_window_display": false
  },
  "varInspector": {
   "cols": {
    "lenName": 16,
    "lenType": 16,
    "lenVar": 40
   },
   "kernels_config": {
    "python": {
     "delete_cmd_postfix": "",
     "delete_cmd_prefix": "del ",
     "library": "var_list.py",
     "varRefreshCmd": "print(var_dic_list())"
    },
    "r": {
     "delete_cmd_postfix": ") ",
     "delete_cmd_prefix": "rm(",
     "library": "var_list.r",
     "varRefreshCmd": "cat(var_dic_list()) "
    }
   },
   "types_to_exclude": [
    "module",
    "function",
    "builtin_function_or_method",
    "instance",
    "_Feature"
   ],
   "window_display": false
  }
 },
 "nbformat": 4,
 "nbformat_minor": 1
}
